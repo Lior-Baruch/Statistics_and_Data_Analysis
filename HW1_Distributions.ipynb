{
  "cells": [
    {
      "cell_type": "markdown",
      "metadata": {
        "id": "YEjfxJrdlVg1"
      },
      "source": [
        "### IDs:\n",
        "Insert yours IDs to the cell below"
      ]
    },
    {
      "cell_type": "markdown",
      "metadata": {
        "id": "QD8UTrMZlVg3"
      },
      "source": [
        "ID #1: 327156998\n",
        "\n",
        "ID #2: \n"
      ]
    },
    {
      "cell_type": "markdown",
      "metadata": {
        "id": "F5OlXfx3lVg3"
      },
      "source": [
        "## Read the following instructions carefully:\n",
        "\n",
        "1. This jupyter notebook contains all the step by step instructions needed for this exercise.\n",
        "1. You are free to add cells.\n",
        "1. Write your functions and your answers in this jupyter notebook only.\n",
        "1. Answers to theoretical questions should be written in **markdown cells (with $\\LaTeX$ support)**.\n",
        "1. Submit this jupyter notebook only using your ID as a filename. Not to use ZIP or RAR. For example, your Moodle submission file name should look like this (two id numbers): `123456789_987654321.ipynb`."
      ]
    },
    {
      "cell_type": "markdown",
      "metadata": {
        "id": "35JKrOq_lVg4"
      },
      "source": [
        "### Question 1 - Defective products"
      ]
    },
    {
      "cell_type": "markdown",
      "metadata": {
        "id": "eti6AJtWlVg4"
      },
      "source": [
        "In a manufacturing pipeline products are 3% defective. We are interested in examining a defective product to see what goes wrong on the belt. We need to ask the facility manager to send us a set of independent samples for examination."
      ]
    },
    {
      "cell_type": "markdown",
      "metadata": {
        "id": "tl4zpI2xlVg4"
      },
      "source": [
        "#### 1.A\n",
        "\n",
        "How many independent samples should we ask for in order to have a 85% probability of having at least one defective product in the batch sent? You should write a function."
      ]
    },
    {
      "cell_type": "code",
      "source": [
        "import random\n",
        "import numpy as np\n",
        "import pandas as pd\n",
        "import seaborn as sns\n",
        "import matplotlib.pyplot as plt"
      ],
      "metadata": {
        "id": "UmffKxPloEUJ"
      },
      "execution_count": 1,
      "outputs": []
    },
    {
      "cell_type": "code",
      "source": [
        "from scipy.stats import rv_discrete\n",
        "from scipy.stats import binom\n",
        "from scipy.stats import iqr\n",
        "from itertools import product"
      ],
      "metadata": {
        "id": "xGOrQT8QCYpl"
      },
      "execution_count": 2,
      "outputs": []
    },
    {
      "cell_type": "code",
      "execution_count": 3,
      "metadata": {
        "id": "nrrBR8bElVg4"
      },
      "outputs": [],
      "source": [
        "def num_of_samples_for_atleast_one(p_defective, p_atleast_one):\n",
        "    ## some math\n",
        "    ## X = B(n, p) --> P(X == k) = (n choose k) * p^k * (1-p)^(n-k)\n",
        "    ## P(X >= 1) = 1 - P(X == 0) = 1 - (1 - p)^n\n",
        "    ## p(X >= 1) >= p_atleast_one --> 1 - (1-p)^n >= p_atleast_one --> n = log(1 - p_atleast_one) / log(1-p) \n",
        "    n = np.log(1 - p_atleast_one) / np.log (1 - p_defective)\n",
        "    n = np.ceil(n).astype(int)\n",
        "    return n"
      ]
    },
    {
      "cell_type": "code",
      "source": [
        "#answer 1.A\n",
        "ans1A = num_of_samples_for_atleast_one(0.03, 0.85)\n",
        "print(\"ans 1.A = {0}\".format(ans1A))"
      ],
      "metadata": {
        "id": "BIMNCh-xhtaq",
        "outputId": "3cbecc0d-6c8a-4c05-b2c8-74598eb2f81c",
        "colab": {
          "base_uri": "https://localhost:8080/"
        }
      },
      "execution_count": 4,
      "outputs": [
        {
          "output_type": "stream",
          "name": "stdout",
          "text": [
            "ans 1.A = 63\n"
          ]
        }
      ]
    },
    {
      "cell_type": "markdown",
      "metadata": {
        "id": "x92V8oF4lVg5"
      },
      "source": [
        "#### 1.B\n",
        "Answer this part again with the following changes: products are 4% defective and we want a 95% probability of at least one defective product in the batch."
      ]
    },
    {
      "cell_type": "code",
      "execution_count": 5,
      "metadata": {
        "colab": {
          "base_uri": "https://localhost:8080/"
        },
        "id": "rRvic7iTlVg5",
        "outputId": "365367fa-7d07-4145-88fc-e2417b61a81a"
      },
      "outputs": [
        {
          "output_type": "stream",
          "name": "stdout",
          "text": [
            "ans 1.B = 74\n"
          ]
        }
      ],
      "source": [
        "#answer 1.B\n",
        "ans1B = num_of_samples_for_atleast_one(0.04, 0.95)\n",
        "print(\"ans 1.B = {0}\".format(ans1B))"
      ]
    },
    {
      "cell_type": "markdown",
      "metadata": {
        "id": "RtQsWEsUlVg5"
      },
      "source": [
        "#### 1.C \n",
        "\n",
        "Consider the following cases and calculate how many independent samples are required: \n",
        "\n",
        "1. Products are 10% defective and we want a 90% probability of at least 5 defective products in the batch.\n",
        "1. Products are 30% defective and we want a 90% probability of at least 15 defective products in the batch.\n",
        "\n",
        "Explain the difference between the two results. You should use mathematical reasoning based on the properties of distributions you saw in class and visualizations in your answer."
      ]
    },
    {
      "cell_type": "code",
      "source": [
        "\n",
        "def num_of_samples_for_atleast_X(p_defective, p_atleast_X, k, n_limit = 1000000):\n",
        "    n = 0\n",
        "    k = k - 1\n",
        "    for n in range(n_limit):\n",
        "        # if P(X >= k) --> 1 - P(X < k) --> 1 - P(X <= k - 1)\n",
        "        if (1 - binom.cdf(k,n,p_defective) >= p_atleast_X):\n",
        "            return n\n",
        "    return -1"
      ],
      "metadata": {
        "id": "yyq3IWurhOXs"
      },
      "execution_count": 6,
      "outputs": []
    },
    {
      "cell_type": "code",
      "execution_count": 7,
      "metadata": {
        "id": "kOhqXv8TlVg6",
        "outputId": "235fcf50-c27b-4a5c-e23c-8233196a6128",
        "colab": {
          "base_uri": "https://localhost:8080/"
        }
      },
      "outputs": [
        {
          "output_type": "stream",
          "name": "stdout",
          "text": [
            "ans 1.C.1 = 78\n",
            "ans 1.C.2 = 64\n"
          ]
        }
      ],
      "source": [
        "#answer 1.C\n",
        "ans1C1 = num_of_samples_for_atleast_X(0.1, 0.90, 5)\n",
        "ans1C2 = num_of_samples_for_atleast_X(0.3, 0.90, 15)\n",
        "\n",
        "print(\"ans 1.C.1 = {0}\".format(ans1C1))\n",
        "print(\"ans 1.C.2 = {0}\".format(ans1C2))"
      ]
    },
    {
      "cell_type": "markdown",
      "source": [
        "as we saw we need to get: (1 - binom.cdf(k,n,p_defective) >= p_atleast_X).\n",
        "we know var(binom(n, p)) = np*(1 - p), E(binom(n, p)) = np --> \n",
        "so we canclude that we will get different answers"
      ],
      "metadata": {
        "id": "4jas4T2IQQY3"
      }
    },
    {
      "cell_type": "markdown",
      "metadata": {
        "id": "Tmtj-zzOlVg6"
      },
      "source": [
        "### Question 2 - Rent distributions in Randomistan"
      ]
    },
    {
      "cell_type": "markdown",
      "metadata": {
        "id": "H5PGTqrIlVg6"
      },
      "source": [
        "The state of Randomistan conducted a survey to study the distribution of rent paid in two neighboring towns, Stochastic Heights and Random Grove, to be denoted SH and RG.<br> \n",
        "\n",
        "Here are some findings of the survey:\n",
        "* The population of SH and RG is 16,000 and 22,000 respectively. <br>\n",
        "* The mean rent in SH and RG is 6300RCU and 4200RCU respectively.\n",
        "* The median rent is 4600RCU in both towns.\n",
        "* The IQR of the rent is smaller in SH than in RG.\n",
        "\n",
        "All data generated in this question needs to be consistent with these findings."
      ]
    },
    {
      "cell_type": "markdown",
      "metadata": {
        "id": "8NWPVcK5lVg6"
      },
      "source": [
        "#### 2.A\n",
        "Draw histograms that describe 2 different scenarii of possible distributions of rent in the two towns.\n",
        "Your histograms should:<br>\n",
        "* Use bins of 100RCU each.\n",
        "* Have at least 10 non zero bins."
      ]
    },
    {
      "cell_type": "code",
      "source": [
        "#create data - Scenario 1\n",
        "RG = None\n",
        "RG_mean = None\n",
        "RG_median = None\n",
        "RG_population = 22000\n",
        "SH = None\n",
        "SH_mean = None\n",
        "SH_median = None\n",
        "SH_population = 16000\n",
        "#create SH\n",
        "SH = np.array([500, 1700, 3500, 4000, 4500, 4700, 5800, 6200, 15100, 17000])\n",
        "SH = np.repeat(SH, SH_population / SH.size)\n",
        "SH = np.sort(SH)\n",
        "SH_mean = np.mean(SH)\n",
        "SH_median = np.median(SH)\n",
        "print(\"SH Population: {}, SH Median: {}, SH Mean: {}, SH IQR: {}\".format(SH.size, SH_median , SH_mean, iqr(SH)))\n",
        "#create RG\n",
        "RG = np.array([0, 1000, 2000, 3000, 4000, 4600, 5000, 5600, 6000, 7000, 8000])\n",
        "RG = np.repeat(RG, RG_population / RG.size)\n",
        "RG = np.sort(RG)\n",
        "RG_mean = np.mean(RG)\n",
        "RG_median = np.median(RG)\n",
        "print(\"RG Population: {}, RG Median: {}, RG Mean: {}, RG IQR: {}\".format(RG.size, RG_median , RG_mean, iqr(RG)))"
      ],
      "metadata": {
        "colab": {
          "base_uri": "https://localhost:8080/"
        },
        "id": "2VsVb8nnfFxv",
        "outputId": "88976af5-1123-4b23-f071-72cdee40f36d"
      },
      "execution_count": 8,
      "outputs": [
        {
          "output_type": "stream",
          "name": "stdout",
          "text": [
            "SH Population: 16000, SH Median: 4600.0, SH Mean: 6300.0, SH IQR: 2700.0\n",
            "RG Population: 22000, RG Median: 4600.0, RG Mean: 4200.0, RG IQR: 4000.0\n"
          ]
        }
      ]
    },
    {
      "cell_type": "code",
      "execution_count": 9,
      "metadata": {
        "id": "BZyE_Wa1lVg7",
        "colab": {
          "base_uri": "https://localhost:8080/",
          "height": 624
        },
        "outputId": "d37d8ebc-4ea2-42e3-dc09-2a2f44566f9b"
      },
      "outputs": [
        {
          "output_type": "stream",
          "name": "stderr",
          "text": [
            "/usr/local/lib/python3.7/dist-packages/numpy/core/fromnumeric.py:3208: VisibleDeprecationWarning: Creating an ndarray from ragged nested sequences (which is a list-or-tuple of lists-or-tuples-or ndarrays with different lengths or shapes) is deprecated. If you meant to do this, you must specify 'dtype=object' when creating the ndarray.\n",
            "  return asarray(a).size\n",
            "/usr/local/lib/python3.7/dist-packages/matplotlib/cbook/__init__.py:1376: VisibleDeprecationWarning: Creating an ndarray from ragged nested sequences (which is a list-or-tuple of lists-or-tuples-or ndarrays with different lengths or shapes) is deprecated. If you meant to do this, you must specify 'dtype=object' when creating the ndarray.\n",
            "  X = np.atleast_1d(X.T if isinstance(X, np.ndarray) else np.asarray(X))\n"
          ]
        },
        {
          "output_type": "execute_result",
          "data": {
            "text/plain": [
              "<matplotlib.legend.Legend at 0x7f014abf65d0>"
            ]
          },
          "metadata": {},
          "execution_count": 9
        },
        {
          "output_type": "display_data",
          "data": {
            "text/plain": [
              "<Figure size 1152x576 with 1 Axes>"
            ],
            "image/png": "[encoded data removed]"
          },
          "metadata": {
            "needs_background": "light"
          }
        }
      ],
      "source": [
        "# Scenario 1\n",
        "figure, ax = plt.subplots(figsize = (16,8))\n",
        "plt.hist([RG, SH], bins = 150, label = [\"RG\", \"SH\"])\n",
        "plt.title(\"Scenario 1\")\n",
        "plt.xlabel(\"RCU\")\n",
        "plt.ylabel(\"Frequency\")  \n",
        "plt.legend()"
      ]
    },
    {
      "cell_type": "code",
      "source": [
        "#create data - Scenario 2\n",
        "RG2 = None\n",
        "RG2_mean = None\n",
        "RG2_median = None\n",
        "RG2_population = 22000\n",
        "SH2 = None\n",
        "SH2_mean = None\n",
        "SH2_median = None\n",
        "SH2_population = 16000\n",
        "#create SH2\n",
        "#SH2 = np.array([500, 1700, 3500, 4000, 4500, 4700, 5800, 6200, 15100, 17000])\n",
        "SH2 = np.array ([1000, 2000, 3000, 4000, 4500, 4700, 5800, 8000, 14000, 15000])\n",
        "SH2 = np.repeat(SH2, SH2_population / SH2.size)\n",
        "SH2 = np.sort(SH2)\n",
        "SH2_mean = np.mean(SH2)\n",
        "SH2_median = np.median(SH2)\n",
        "print(\"SH2 Population: {}, SH2 Median: {}, SH2 Mean: {}, SH2 IQR: {}\".format(SH2.size, SH2_median , SH2_mean, iqr(SH2)))\n",
        "#create RG2\n",
        "#RG2 = np.array([0, 1000, 2000, 3000, 4000, 4600, 5000, 5600, 6000, 7000, 8000])\n",
        "RG2 = np.array([100, 200, 1000, 2000, 3000, 4600, 5300, 6000, 7000, 8000, 9000 ])\n",
        "RG2 = np.repeat(RG2, RG2_population / RG2.size)\n",
        "RG2 = np.sort(RG2)\n",
        "RG2_mean = np.mean(RG2)\n",
        "RG2_median = np.median(RG2)\n",
        "print(\"RG2 Population: {}, RG2 Median: {}, RG2 Mean: {}, RG2 IQR: {}\".format(RG2.size, RG2_median , RG2_mean, iqr(RG2)))"
      ],
      "metadata": {
        "colab": {
          "base_uri": "https://localhost:8080/"
        },
        "id": "qJDOIPwyxzmU",
        "outputId": "b553f73a-2651-4b72-b3d3-583eb8a82003"
      },
      "execution_count": 10,
      "outputs": [
        {
          "output_type": "stream",
          "name": "stdout",
          "text": [
            "SH2 Population: 16000, SH2 Median: 4600.0, SH2 Mean: 6200.0, SH2 IQR: 5000.0\n",
            "RG2 Population: 22000, RG2 Median: 4600.0, RG2 Mean: 4200.0, RG2 IQR: 6000.0\n"
          ]
        }
      ]
    },
    {
      "cell_type": "code",
      "source": [
        "# Scenario 2\n",
        "figure, ax = plt.subplots(figsize = (16,8))\n",
        "plt.hist([RG2, SH2], bins = 150, label = [\"RG2\", \"SH2\"])\n",
        "plt.title(\"Scenario 2\")\n",
        "plt.xlabel(\"RCU\")\n",
        "plt.ylabel(\"Frequency\")  \n",
        "plt.legend()"
      ],
      "metadata": {
        "colab": {
          "base_uri": "https://localhost:8080/",
          "height": 531
        },
        "id": "ixm9SSbRfTab",
        "outputId": "c9e7c45f-5c01-496c-b897-f7c0fc93c9ce"
      },
      "execution_count": 11,
      "outputs": [
        {
          "output_type": "execute_result",
          "data": {
            "text/plain": [
              "<matplotlib.legend.Legend at 0x7f014aa7a310>"
            ]
          },
          "metadata": {},
          "execution_count": 11
        },
        {
          "output_type": "display_data",
          "data": {
            "text/plain": [
              "<Figure size 1152x576 with 1 Axes>"
            ],
            "image/png": "[encoded data removed]"
          },
          "metadata": {
            "needs_background": "light"
          }
        }
      ]
    },
    {
      "cell_type": "markdown",
      "metadata": {
        "id": "Ik9pb4DalVg7"
      },
      "source": [
        "#### 2.B\n",
        "Draw a histogram of a third scenario with the same properties. <br>\n",
        "In addition, in this scenario the rent in SH should have a higher variance than the rent in RG."
      ]
    },
    {
      "cell_type": "code",
      "source": [
        "#create data - Scenario 3\n",
        "RG3 = None\n",
        "RG3_mean = None\n",
        "RG3_median = None\n",
        "RG3_population = 22000\n",
        "SH3 = None\n",
        "SH3_mean = None\n",
        "SH3_median = None\n",
        "SH3_population = 16000\n",
        "#create SH3\n",
        "SH3 = np.array([600, 1700, 3500, 4000, 4500, 4700, 5800, 6200, 15000, 17000])\n",
        "SH3 = np.repeat(SH3, SH3_population / SH3.size)\n",
        "SH3 = np.sort(SH3)\n",
        "SH3_mean = np.mean(SH3)\n",
        "SH3_median = np.median(SH3)\n",
        "print(\"SH3 Population: {}, SH3 Median: {}, SH3 Mean: {}, SH3 IQR: {}\".format(SH3.size, SH3_median , SH3_mean, iqr(SH3)))\n",
        "#create RG3\n",
        "RG3 = np.array([100, 900, 2000, 3000, 4000, 4600, 5000, 5600, 6000, 7000, 8000])\n",
        "RG3 = np.repeat(RG3, RG3_population / RG3.size)\n",
        "RG3 = np.sort(RG3)\n",
        "RG3_mean = np.mean(RG3)\n",
        "RG3_median = np.median(RG3)\n",
        "print(\"RG3 Population: {}, RG3 Median: {}, RG3 Mean: {}, RG3 IQR: {}\".format(RG3.size, RG3_median , RG3_mean, iqr(RG3)))"
      ],
      "metadata": {
        "colab": {
          "base_uri": "https://localhost:8080/"
        },
        "id": "u1SYMYZ_lLQO",
        "outputId": "02b6858f-39b8-4d78-cc2f-766cb19cd38d"
      },
      "execution_count": 12,
      "outputs": [
        {
          "output_type": "stream",
          "name": "stdout",
          "text": [
            "SH3 Population: 16000, SH3 Median: 4600.0, SH3 Mean: 6300.0, SH3 IQR: 2700.0\n",
            "RG3 Population: 22000, RG3 Median: 4600.0, RG3 Mean: 4200.0, RG3 IQR: 4000.0\n"
          ]
        }
      ]
    },
    {
      "cell_type": "code",
      "execution_count": 13,
      "metadata": {
        "id": "MzYCJ3-wlVg7",
        "colab": {
          "base_uri": "https://localhost:8080/"
        },
        "outputId": "51057b42-5d40-4055-8391-771ea30f685e"
      },
      "outputs": [
        {
          "output_type": "stream",
          "name": "stdout",
          "text": [
            "SH variance: 26592000.0\n",
            "RG variance: 5680000.0\n"
          ]
        }
      ],
      "source": [
        "SH3_variance = np.var(SH)\n",
        "RG3_variance = np.var(RG)\n",
        "print(\"SH variance: {}\".format(SH3_variance))\n",
        "print(\"RG variance: {}\".format(RG3_variance))\n"
      ]
    },
    {
      "cell_type": "code",
      "source": [
        "figure, ax = plt.subplots(figsize = (16,8))\n",
        "plt.hist([RG3, SH3], bins = 150, label = [\"RG3\", \"SH3\"])\n",
        "plt.title(\"Scenario 3\")\n",
        "plt.xlabel(\"RCU\")\n",
        "plt.ylabel(\"Frequency\")  \n",
        "plt.legend()"
      ],
      "metadata": {
        "colab": {
          "base_uri": "https://localhost:8080/",
          "height": 531
        },
        "id": "cpBvHI7e1SbR",
        "outputId": "ea11849b-7db9-4605-8c76-3dc5b025feba"
      },
      "execution_count": 14,
      "outputs": [
        {
          "output_type": "execute_result",
          "data": {
            "text/plain": [
              "<matplotlib.legend.Legend at 0x7f014a2c0450>"
            ]
          },
          "metadata": {},
          "execution_count": 14
        },
        {
          "output_type": "display_data",
          "data": {
            "text/plain": [
              "<Figure size 1152x576 with 1 Axes>"
            ],
            "image/png": "[encoded data removed]"
          },
          "metadata": {
            "needs_background": "light"
          }
        }
      ]
    },
    {
      "cell_type": "markdown",
      "metadata": {
        "id": "gSHetnGDlVg7"
      },
      "source": [
        "The survey also examined the per household income (PHI) in these two places.<br>\n",
        "\n",
        "It found that:<br>\n",
        "* The mean of PHI in SH is 12500 and in RG is 8500.\n",
        "* The median is 12000 in SH and 8000 in RG.\n",
        "* The covariance of the rent and the PHI was observed to be as in the formula below with $\\alpha=97\\%$ and $\\alpha=89\\%$ in SH and in RG respectively.<br><br>\n",
        "$$Cov(rent, PHI) = \\alpha * \\sqrt{Var(rent)} * \\sqrt{Var(PHI)}$$\n",
        "\n",
        "#### 2.C\n",
        "Produce rent and PHI data for the two cities, that is consistent with these findings. The covariances in your data can deviate by up to 1% from the numbers given $\\alpha$."
      ]
    },
    {
      "cell_type": "code",
      "source": [
        "SH_alpha = 0.97\n",
        "RG_alpha = 0.89"
      ],
      "metadata": {
        "id": "GbrsVAjO3mNg"
      },
      "execution_count": 15,
      "outputs": []
    },
    {
      "cell_type": "code",
      "execution_count": 16,
      "metadata": {
        "id": "0Ww2kLuWlVg7",
        "colab": {
          "base_uri": "https://localhost:8080/"
        },
        "outputId": "b39449bf-f6f5-4f06-b124-274546aea9a4"
      },
      "outputs": [
        {
          "output_type": "stream",
          "name": "stdout",
          "text": [
            "SH_rent Population: 16000, SH_rent Median: 4600.0, SH_rent Mean: 6300.0, SH_rent IQR: 2700.0\n",
            "SH_phi Population: 16000, SH_phi Median: 12000.0, SH_phi Mean: 12500.0, SH_phi IQR: 3500.0\n",
            "SH_cov = 12655790.986936683, SH_cov_formula = 12801707.067418784, deviate = 0.011529589942874008%\n"
          ]
        }
      ],
      "source": [
        "#SH\n",
        "SH_rent = SH\n",
        "SH_rent_mean = np.mean(SH_rent)\n",
        "SH_rent_median = np.median(SH_rent)\n",
        "SH_phi = np.array([9000, 10000, 10500, 11000, 11500, 12500, 13000, 14000, 16000, 17500])\n",
        "SH_phi = np.repeat(SH_phi, SH_population / SH_phi.size)\n",
        "SH_phi = np.sort(SH_phi)\n",
        "SH_phi_mean = np.mean(SH_phi)\n",
        "SH_phi_median = np.median(SH_phi)\n",
        "print(\"SH_rent Population: {}, SH_rent Median: {}, SH_rent Mean: {}, SH_rent IQR: {}\".format(SH_rent.size, SH_rent_median , SH_rent_mean, iqr(SH_rent)))\n",
        "print(\"SH_phi Population: {}, SH_phi Median: {}, SH_phi Mean: {}, SH_phi IQR: {}\".format(SH_phi.size, SH_phi_median , SH_phi_mean, iqr(SH_phi)))\n",
        "SH_cov = np.cov(SH, SH_phi)[0,1]\n",
        "SH_cov_formula = SH_alpha * ((np.sqrt(np.var((SH)))) * (np.sqrt(np.var((SH_phi)))))\n",
        "SH_deviate = np.abs(1 - (SH_cov_formula/SH_cov))\n",
        "print(\"SH_cov = {}, SH_cov_formula = {}, deviate = {}%\".format(SH_cov, SH_cov_formula, SH_deviate))"
      ]
    },
    {
      "cell_type": "code",
      "source": [
        "#RG\n",
        "RG_rent = RG\n",
        "RG_rent_mean = np.mean(RG_rent)\n",
        "RG_rent_median = np.median(RG_rent)\n",
        "RG_phi = np.array([9000, 10000, 10500, 11000, 11500, 12500, 13000, 14000, 16000, 17500])\n",
        "RG_phi = np.repeat(RG_phi, RG_population / RG_phi.size)\n",
        "RG_phi = np.sort(RG_phi)\n",
        "RG_phi_mean = np.mean(RG_phi)\n",
        "RG_phi_median = np.median(RG_phi)\n",
        "print(\"RG_rent Population: {}, RG_rent Median: {}, RG_rent Mean: {}, RG_rent IQR: {}\".format(RG_rent.size, RG_rent_median , RG_rent_mean, iqr(RG_rent)))\n",
        "print(\"RG_phi Population: {}, RG_phi Median: {}, RG_phi Mean: {}, RG_phi IQR: {}\".format(RG_phi.size, RG_phi_median , RG_phi_mean, iqr(RG_phi)))\n",
        "RG_cov = np.cov(RG, RG_phi)[0,1]\n",
        "RG_cov_formula = RG_alpha * ((np.sqrt(np.var((RG)))) * (np.sqrt(np.var((RG_phi)))))\n",
        "RG_deviate = np.abs(1 - (RG_cov_formula/RG_cov))\n",
        "print(\"RG_cov = {}, RG_cov_formula = {}, deviate = {}%\".format(RG_cov, RG_cov_formula, RG_deviate))"
      ],
      "metadata": {
        "colab": {
          "base_uri": "https://localhost:8080/"
        },
        "id": "kBhoG2kn50uH",
        "outputId": "44daced0-f2a8-43ed-bc89-e98891449f04"
      },
      "execution_count": 17,
      "outputs": [
        {
          "output_type": "stream",
          "name": "stdout",
          "text": [
            "RG_rent Population: 22000, RG_rent Median: 4600.0, RG_rent Mean: 4200.0, RG_rent IQR: 4000.0\n",
            "RG_phi Population: 22000, RG_phi Median: 12000.0, RG_phi Mean: 12500.0, RG_phi IQR: 3500.0\n",
            "RG_cov = 5780262.739215419, RG_cov_formula = 5428562.277435895, deviate = 0.06084506494721409%\n"
          ]
        }
      ]
    },
    {
      "cell_type": "markdown",
      "metadata": {
        "id": "PqFErOMalVg7"
      },
      "source": [
        "#### 2.D\n",
        "Produce two heatmaps that describe these two bivariate joint distributions. Make sure you carefully consider the selected binning resolution."
      ]
    },
    {
      "cell_type": "code",
      "execution_count": 18,
      "metadata": {
        "id": "gDsqExmhlVg8",
        "colab": {
          "base_uri": "https://localhost:8080/",
          "height": 295
        },
        "outputId": "8aad93ef-c6c5-4477-f831-009649e00fe8"
      },
      "outputs": [
        {
          "output_type": "display_data",
          "data": {
            "text/plain": [
              "<Figure size 432x288 with 2 Axes>"
            ],
            "image/png": "[encoded data removed]"
          },
          "metadata": {
            "needs_background": "light"
          }
        }
      ],
      "source": [
        "plt.hist2d(SH_rent, SH_phi, bins=32, cmap='magma')\n",
        "plt.title(\"SH Heatmap\")\n",
        "plt.ylabel(\"Rent\")\n",
        "plt.xlabel(\"PHI\")\n",
        "plt.colorbar()\n",
        "plt.show() "
      ]
    },
    {
      "cell_type": "code",
      "source": [
        "plt.hist2d(RG_rent, RG_phi, bins=32, cmap='magma')\n",
        "plt.title(\"RG Heatmap\")\n",
        "plt.ylabel(\"Rent\")\n",
        "plt.xlabel(\"PHI\")\n",
        "plt.colorbar()\n",
        "plt.show() "
      ],
      "metadata": {
        "colab": {
          "base_uri": "https://localhost:8080/",
          "height": 295
        },
        "id": "pWNP8Fg79xJE",
        "outputId": "4f784d3c-f4a8-4e10-b22e-8ce40cf38cb3"
      },
      "execution_count": 19,
      "outputs": [
        {
          "output_type": "display_data",
          "data": {
            "text/plain": [
              "<Figure size 432x288 with 2 Axes>"
            ],
            "image/png": "[encoded data removed]"
          },
          "metadata": {
            "needs_background": "light"
          }
        }
      ]
    },
    {
      "cell_type": "markdown",
      "metadata": {
        "id": "alBOlBGzlVg8"
      },
      "source": [
        "### Question 3 - Multinomial Distributions\n",
        "\n",
        "1. Let $X \\sim Multinomial(n,\\vec{p})$ be a multinomial random variable where $n=20$ and $\\vec{p} = (0.2,  0.1,  0.1,  0.1,  0.2,  0.3)$. Note that X is a vector of counts.\n",
        "\n",
        "\n",
        "2. Let $Y = X_2 + X_3 + X_4$ be a random variable.\n",
        "\n",
        "\n",
        "3. Create $k=100$ experiments where $X$ is sampled using Python. Calculate the empirical centralized third moment of $Y$ based on your $k$ experiments.\n",
        "\n",
        "\n",
        "4. Compare your result to the calculation in class for the centralized third moment of the **binomial** distribution and explain your observation."
      ]
    },
    {
      "cell_type": "code",
      "execution_count": 20,
      "metadata": {
        "id": "HnzHvxSTlVg8",
        "colab": {
          "base_uri": "https://localhost:8080/"
        },
        "outputId": "9930d44a-6532-4772-e850-1a0003f07114"
      },
      "outputs": [
        {
          "output_type": "execute_result",
          "data": {
            "text/plain": [
              "array([0, 2, 2, 4, 5, 7])"
            ]
          },
          "metadata": {},
          "execution_count": 20
        }
      ],
      "source": [
        "def get_count_of_multinom(n = 20, p = [0.2, 0.1, 0.1, 0.1, 0.2, 0.3]):\n",
        "    X = np.random.rand(n)\n",
        "    prev_p_total = 0\n",
        "    for i in range(len(p)):\n",
        "        prev_p_total += p[i]\n",
        "        X[X < prev_p_total] = i + 1\n",
        "    X = (X - 1).astype(int)\n",
        "\n",
        "    count = np.zeros_like(p).astype(int)\n",
        "    for i in X:\n",
        "        count[i] += 1\n",
        "    return count\n",
        "\n",
        "\n",
        "get_count_of_multinom()"
      ]
    },
    {
      "cell_type": "code",
      "source": [
        "def calc_emp_cent_Y(k = 100, n = 20, p = [0.2, 0.1, 0.1, 0.1, 0.2, 0.3]):\n",
        "    y = 0\n",
        "    for i in range(k):\n",
        "        count = get_count_of_multinom(n, p)\n",
        "        y += count[1] + count[2] + count[3] # Y = X2 + X3 + X4\n",
        "    return y / k\n",
        "\n",
        "ans3 = calc_emp_cent_Y()\n",
        "print(\"The empirical centralized third moment of Y based on 100 experiments = {0}\".format(ans3))"
      ],
      "metadata": {
        "colab": {
          "base_uri": "https://localhost:8080/"
        },
        "id": "XBOcikFc1kCI",
        "outputId": "048b7c1d-3757-4efc-fdce-59898b8fa5d0"
      },
      "execution_count": 21,
      "outputs": [
        {
          "output_type": "stream",
          "name": "stdout",
          "text": [
            "The empirical centralized third moment of Y based on 100 experiments = 5.82\n"
          ]
        }
      ]
    },
    {
      "cell_type": "markdown",
      "source": [
        "in class we get that the centralized third moment in this case of Y = 6.\n",
        "we get something close to 6, as we make k bigger we get closer and closer to the real answer that is 6."
      ],
      "metadata": {
        "id": "D_R1h1qnWPOX"
      }
    },
    {
      "cell_type": "markdown",
      "metadata": {
        "id": "VevEMOSKlVg8"
      },
      "source": [
        "### Question 4 - Covariance and independence"
      ]
    },
    {
      "cell_type": "markdown",
      "metadata": {
        "id": "8WksmBsJlVg8"
      },
      "source": [
        "What is the variance of the sum X +Y + Z of three random variables in terms of the variances of X, Y and Z and the covariances between each pair of random variables? What happens if X,Y,Z are pairwise independent? If X,Y,Z are pairwise independent, are they necessarily collectively independent? Prove your answer."
      ]
    },
    {
      "cell_type": "markdown",
      "source": [
        "we know Var(X + Y) = Var(X) + Var(Y) + 2Cov(X,Y)\n",
        "we know Cov(A+B,C) = Cov(A,C)+Cov(B,C)\n",
        "\n"
      ],
      "metadata": {
        "id": "1mPJPku9AkkI"
      }
    },
    {
      "cell_type": "markdown",
      "source": [
        "var(X + Y + Z) = Var(X) + Var(Y + Z) + 2Cov(X,Y + Z) =\n",
        "= Var(X) + Var(Y) + Var(Z) + 2Cov(Y,Z) + (2 * (Cov(X,Y)+Cov(X,Z))) = Var(X) + Var(Y) + Var(Z) + 2Cov(X,Y) + 2Cov(X,Z) + 2Cov(Y,Z)"
      ],
      "metadata": {
        "id": "MGsa8RlPYKPH"
      }
    },
    {
      "cell_type": "markdown",
      "source": [
        "if X,Y,Z are pairwise independent:\n",
        "\n",
        "var(X + Y + Z) = Var(X) + Var(Y) + Var(Z) + 2Cov(X,Y) + 2Cov(X,Z) + 2Cov(Y,Z) = Var(X) + Var(Y) + Var(Z)"
      ],
      "metadata": {
        "id": "M7z6sAWkYZv8"
      }
    },
    {
      "cell_type": "markdown",
      "source": [
        "If X,Y,Z are pairwise independent, are they necessarily collectively independent?\n",
        "answer: NO!\n",
        "Let Ω={1,2,3,4}, and A=2Ω. Let P(i)=14, where i=1,2,3,4.\n",
        "\n",
        "Let A={1,2}, B={1,3}, C={2,3}. Then A,B,C are pairwise independent but are not independent."
      ],
      "metadata": {
        "id": "Z_VIfwoOYqzs"
      }
    },
    {
      "cell_type": "markdown",
      "metadata": {
        "id": "rDIxYJyklVg8"
      },
      "source": [
        "### Question 5 - Convolutions"
      ]
    },
    {
      "cell_type": "markdown",
      "metadata": {
        "id": "L8lO1NCqlVg9"
      },
      "source": [
        "#### 5.A\n",
        "Write a program, `Q = NFoldConv(P , n)`, that takes as input:\n",
        "* A distribution, P, of a random variable that takes finitely many integer values\n",
        "* An integer n\n",
        "\n",
        "and produces the distribution, Q, of the sum of n independent repeats of random variables, each of which has the distribution P."
      ]
    },
    {
      "cell_type": "code",
      "execution_count": 22,
      "metadata": {
        "id": "vbEWd0oTlVg9"
      },
      "outputs": [],
      "source": [
        "# we assume P = {key: prob}\n",
        "def NFoldConv(P = {} , n = 2):\n",
        "    return NFoldConvHelper(P, P, n)\n",
        "\n",
        "def NFoldConvHelper(P_original = {}, Q_prev = {}, n = 2):\n",
        "    if n <= 1:\n",
        "        return Q_prev\n",
        "  \n",
        "    Q = {}\n",
        "    if n > 1:\n",
        "       keys_original = list(P_original.keys())\n",
        "       probs_original = list(P_original.values())\n",
        "       length_original = len(keys_original)\n",
        "       keys_prev = list(Q_prev.keys())\n",
        "       probs_prev = list(Q_prev.values())\n",
        "       length_prev = len(keys_prev)\n",
        "\n",
        "       for i in range(length_original):\n",
        "           for j in range(length_prev):\n",
        "               Q[keys_original[i] + keys_prev[j]] = Q.get((keys_original[i] + keys_prev[j]), 0) + probs_original[i] * probs_prev[j]\n",
        "\n",
        "    return NFoldConvHelper(P_original, Q, n - 1)"
      ]
    },
    {
      "cell_type": "markdown",
      "metadata": {
        "id": "JqjAUrcklVg9"
      },
      "source": [
        "#### 5.B\n",
        "Compute the distribution of the sum of the results of rolling a fair octahedron 17 times.\n",
        "\n",
        "<img src=\"https://upload.wikimedia.org/wikipedia/commons/2/27/Octahedron.jpg\" width=\"200\">\n"
      ]
    },
    {
      "cell_type": "code",
      "execution_count": 23,
      "metadata": {
        "id": "BiXY9FynlVg9",
        "colab": {
          "base_uri": "https://localhost:8080/",
          "height": 295
        },
        "outputId": "c4440ea9-7858-4a1e-c505-12e201c8c473"
      },
      "outputs": [
        {
          "output_type": "display_data",
          "data": {
            "text/plain": [
              "<Figure size 432x288 with 1 Axes>"
            ],
            "image/png": "[encoded data removed]"
          },
          "metadata": {
            "needs_background": "light"
          }
        }
      ],
      "source": [
        "P = {1:1/8, 2:1/8, 3:1/8, 4:1/8, 5:1/8, 6:1/8, 7:1/8, 8:1/8}\n",
        "Q = NFoldConv(P, 17)\n",
        "\n",
        "plt.hist2d(list(Q.keys()), list(Q.values()), bins=32, cmap='magma')\n",
        "plt.title('Distribution: Sum of rolling fair octahedron 17 times')\n",
        "plt.xlabel('Sum')\n",
        "plt.ylabel('Total Pobability')\n",
        "plt.show()"
      ]
    },
    {
      "cell_type": "markdown",
      "metadata": {
        "id": "e73T3HcclVg9"
      },
      "source": [
        "### Question 6 - Counting Similar Strings"
      ]
    },
    {
      "cell_type": "markdown",
      "metadata": {
        "id": "sr9iHTOIlVg9"
      },
      "source": [
        "Define a probaility space $(\\Omega, P)$:\n",
        "* $\\Omega = \\{0,1\\}^n$.\n",
        "* $P$ is induced by independantly tossing a $p$-coin ($p \\in [0,1]$) n times.\n",
        "\n",
        "For $\\omega \\in \\Omega$ let $W(\\omega) =$ number of 1s in $\\omega$.\n",
        "\n",
        "For $\\omega \\in \\Omega$ let the random variable $C = C_{p, n}$ be defined by:\n",
        "$$C(\\omega) = |\\{\\zeta : W(\\zeta)=W(\\omega)\\}|$$"
      ]
    },
    {
      "cell_type": "markdown",
      "metadata": {
        "id": "wCDlRIpIlVg9"
      },
      "source": [
        "#### 6.A\n",
        "Plot the distribution of $W$ for $n = 100$ and $p = 0.3$. What is the name of this distribution?"
      ]
    },
    {
      "cell_type": "code",
      "source": [
        "def fact(n = 2):\n",
        "    arr = np.zeros(n + 1)\n",
        "    arr[0] = 1\n",
        "    arr[1] = 1\n",
        "    for i in range(2, n + 1):\n",
        "        arr[i] = arr[i - 1] * i\n",
        "    return(arr)\n",
        "        "
      ],
      "metadata": {
        "id": "ll9r52z-3LVA"
      },
      "execution_count": 24,
      "outputs": []
    },
    {
      "cell_type": "code",
      "execution_count": 25,
      "metadata": {
        "id": "_Y-hAEORlVg9",
        "colab": {
          "base_uri": "https://localhost:8080/",
          "height": 295
        },
        "outputId": "72bc1ae0-3bec-42e8-d537-047af66a671f"
      },
      "outputs": [
        {
          "output_type": "display_data",
          "data": {
            "text/plain": [
              "<Figure size 432x288 with 1 Axes>"
            ],
            "image/png": "[encoded data removed]"
          },
          "metadata": {
            "needs_background": "light"
          }
        }
      ],
      "source": [
        "from scipy.stats import nbinom\n",
        "from scipy.stats import binom\n",
        "import math\n",
        "\n",
        "def distribution_p_coin(n = 100, p = 0.3):\n",
        "    W = np.zeros(n + 1)\n",
        "    rv = binom(n, p)\n",
        "    fact_arr = fact(n)\n",
        "    for k in range(n):\n",
        "        W[k] = (fact_arr[n] / (fact_arr[k] * fact_arr[n - k])) * math.pow(p, k) * math.pow(1 - p, n - k)\n",
        "    #print(W)\n",
        "    return W    \n",
        "\n",
        "W = distribution_p_coin(100, 0.3)\n",
        "plt.hist2d(range(0, 101), list(W), bins=32, cmap='magma')\n",
        "plt.title('Distribution of  W  for  n=100  and  p=0.3')\n",
        "plt.xlabel('number of ones')\n",
        "plt.ylabel('Total Pobability')\n",
        "plt.show()"
      ]
    },
    {
      "cell_type": "markdown",
      "metadata": {
        "id": "YPqf-dFolVg-"
      },
      "source": [
        "#### 6.B\n",
        "State a formula for comuting $E(C)$.\n",
        "\n",
        "Compute $E(C)$ for $p=0.1, 0.5, 0.8$ and $n=10, 20, 50, 100$"
      ]
    },
    {
      "cell_type": "code",
      "execution_count": 26,
      "metadata": {
        "id": "gLo96NyXlVg-",
        "colab": {
          "base_uri": "https://localhost:8080/"
        },
        "outputId": "8fa08ed9-cb01-4c78-8697-975e213235f7"
      },
      "outputs": [
        {
          "output_type": "stream",
          "name": "stdout",
          "text": [
            "for p = 0.1, n = 10 we get E(C) = 22.575959534700008 \n",
            "for p = 0.1, n = 20 we get E(C) = 1757.745847765875 \n",
            "for p = 0.1, n = 50 we get E(C) = 1479309659.773231 \n",
            "for p = 0.1, n = 100 we get E(C) = 1.6815694309212336e+19 \n",
            "for p = 0.5, n = 10 we get E(C) = 180.4248046875 \n",
            "for p = 0.5, n = 20 we get E(C) = 131460.69414043427 \n",
            "for p = 0.5, n = 50 we get E(C) = 89609514959900.02 \n",
            "for p = 0.5, n = 100 we get E(C) = 7.143018323803162e+28 \n",
            "for p = 0.8, n = 10 we get E(C) = 66.84263393279997 \n",
            "for p = 0.8, n = 20 we get E(C) = 16979.42059501013 \n",
            "for p = 0.8, n = 50 we get E(C) = 490151964857.8015 \n",
            "for p = 0.8, n = 100 we get E(C) = 2.0130081915278964e+24 \n"
          ]
        }
      ],
      "source": [
        "def get_Ec(p = 0.1, n = 10):\n",
        "    W = distribution_p_coin(n, p)\n",
        "    E = 0\n",
        "    fact_arr = fact(n)\n",
        "    # E(C) = sigma(nCk * W[k])\n",
        "    for k in range(n + 1):\n",
        "        E = E + ((fact_arr[n] / (fact_arr[k] * fact_arr[n - k])) * W[k] )\n",
        "    return E\n",
        "\n",
        "P = [0.1, 0.5, 0.8]\n",
        "N = [10, 20, 50, 100]\n",
        "for p in P:\n",
        "    for n in N:\n",
        "        E = get_Ec(p, n)\n",
        "        print(\"for p = {}, n = {} we get E(C) = {} \".format(p, n, E))"
      ]
    },
    {
      "cell_type": "markdown",
      "metadata": {
        "id": "iiENl9BzlVg-"
      },
      "source": [
        "#### 6.C \n",
        "Plot the histograms of the values of $C$ for 1000 samples drawn from the space $(\\Omega, P)$ for each combination of $p$ and $n$ from the previous section. <br>\n",
        "Add text to each histogram with the empirical average of $C$ and the computed value of $E(C)$ (from the previous section). <br>\n",
        "In every histogram indicate the values of $n$ and $p$. "
      ]
    },
    {
      "cell_type": "code",
      "execution_count": 27,
      "metadata": {
        "id": "qDadklrolVg-",
        "colab": {
          "base_uri": "https://localhost:8080/",
          "height": 1000
        },
        "outputId": "bf514821-ea38-4232-b051-65d7d8309eb7"
      },
      "outputs": [
        {
          "output_type": "display_data",
          "data": {
            "text/plain": [
              "<Figure size 576x288 with 1 Axes>"
            ],
            "image/png": "[encoded data removed]"
          },
          "metadata": {
            "needs_background": "light"
          }
        },
        {
          "output_type": "display_data",
          "data": {
            "text/plain": [
              "<Figure size 576x288 with 1 Axes>"
            ],
            "image/png": "[encoded data removed]"
          },
          "metadata": {
            "needs_background": "light"
          }
        },
        {
          "output_type": "display_data",
          "data": {
            "text/plain": [
              "<Figure size 576x288 with 1 Axes>"
            ],
            "image/png": "[encoded data removed]"
          },
          "metadata": {
            "needs_background": "light"
          }
        },
        {
          "output_type": "display_data",
          "data": {
            "text/plain": [
              "<Figure size 576x288 with 1 Axes>"
            ],
            "image/png": "[encoded data removed]"
          },
          "metadata": {
            "needs_background": "light"
          }
        },
        {
          "output_type": "display_data",
          "data": {
            "text/plain": [
              "<Figure size 576x288 with 1 Axes>"
            ],
            "image/png": "[encoded data removed]"
          },
          "metadata": {
            "needs_background": "light"
          }
        },
        {
          "output_type": "display_data",
          "data": {
            "text/plain": [
              "<Figure size 576x288 with 1 Axes>"
            ],
            "image/png": "[encoded data removed]"
          },
          "metadata": {
            "needs_background": "light"
          }
        },
        {
          "output_type": "display_data",
          "data": {
            "text/plain": [
              "<Figure size 576x288 with 1 Axes>"
            ],
            "image/png": "[encoded data removed]"
          },
          "metadata": {
            "needs_background": "light"
          }
        },
        {
          "output_type": "display_data",
          "data": {
            "text/plain": [
              "<Figure size 576x288 with 1 Axes>"
            ],
            "image/png": "[encoded data removed]"
          },
          "metadata": {
            "needs_background": "light"
          }
        },
        {
          "output_type": "display_data",
          "data": {
            "text/plain": [
              "<Figure size 576x288 with 1 Axes>"
            ],
            "image/png": "[encoded data removed]"
          },
          "metadata": {
            "needs_background": "light"
          }
        },
        {
          "output_type": "display_data",
          "data": {
            "text/plain": [
              "<Figure size 576x288 with 1 Axes>"
            ],
            "image/png": "[encoded data removed]"
          },
          "metadata": {
            "needs_background": "light"
          }
        },
        {
          "output_type": "display_data",
          "data": {
            "text/plain": [
              "<Figure size 576x288 with 1 Axes>"
            ],
            "image/png": "[encoded data removed]"
          },
          "metadata": {
            "needs_background": "light"
          }
        },
        {
          "output_type": "display_data",
          "data": {
            "text/plain": [
              "<Figure size 576x288 with 1 Axes>"
            ],
            "image/png": "[encoded data removed]"
          },
          "metadata": {
            "needs_background": "light"
          }
        }
      ],
      "source": [
        "P = [0.1, 0.5, 0.8]\n",
        "N = [10, 20, 50, 100]\n",
        "def temp6c():\n",
        "    for n in N:\n",
        "        for p in P:\n",
        "            binom = np.random.binomial(n, p, 1000)\n",
        "            figure, ax = plt.subplots(figsize = (8,4))\n",
        "            plt.title('p = {}, n = {}'.format(n, p))\n",
        "            plt.xlabel('number of ones')\n",
        "            plt.ylabel('times we got it')\n",
        "            plt.hist(binom, bins=64)\n",
        "temp6c()"
      ]
    },
    {
      "cell_type": "markdown",
      "metadata": {
        "id": "Oy8WU5PklVg-"
      },
      "source": [
        "#### 6.D\n",
        "Use a scatter plot to compare the empirical and the computed values from the previous section"
      ]
    },
    {
      "cell_type": "code",
      "execution_count": 28,
      "metadata": {
        "id": "sOn4lR_ElVg-",
        "colab": {
          "base_uri": "https://localhost:8080/",
          "height": 494
        },
        "outputId": "a6633850-4560-4ec4-f029-71bb1447baf5"
      },
      "outputs": [
        {
          "output_type": "stream",
          "name": "stdout",
          "text": [
            "E(Binom) = 0.985, E = 22.575959534700008\n",
            "E(Binom) = 4.953, E = 180.4248046875\n",
            "E(Binom) = 7.987, E = 66.84263393279997\n",
            "E(Binom) = 2.033, E = 1757.745847765875\n",
            "E(Binom) = 10.03, E = 131460.69414043427\n",
            "E(Binom) = 15.979, E = 16979.42059501013\n",
            "E(Binom) = 5.027, E = 1479309659.773231\n",
            "E(Binom) = 24.892, E = 89609514959900.02\n",
            "E(Binom) = 40.192, E = 490151964857.8015\n",
            "E(Binom) = 10.016, E = 1.6815694309212336e+19\n",
            "E(Binom) = 49.867, E = 7.143018323803162e+28\n",
            "E(Binom) = 80.122, E = 2.0130081915278964e+24\n"
          ]
        },
        {
          "output_type": "display_data",
          "data": {
            "text/plain": [
              "<Figure size 432x288 with 1 Axes>"
            ],
            "image/png": "[encoded data removed]"
          },
          "metadata": {
            "needs_background": "light"
          }
        }
      ],
      "source": [
        "P = [0.1, 0.5, 0.8]\n",
        "N = [10, 20, 50, 100]\n",
        "ec1 = []\n",
        "ec2 = []\n",
        "def temp6d():\n",
        "    for n in N:\n",
        "        for p in P:\n",
        "            binom = np.random.binomial(n, p, 1000)\n",
        "            ec1.append(np.mean(binom))\n",
        "            E = get_Ec(p, n)\n",
        "            ec2.append(E)\n",
        "            print(\"E(Binom) = {}, E = {}\".format(np.mean(binom), E))\n",
        "temp6d()\n",
        "plt.scatter(ec1, ec2)\n",
        "plt.show()"
      ]
    }
  ],
  "metadata": {
    "kernelspec": {
      "display_name": "Python 3",
      "language": "python",
      "name": "python3"
    },
    "language_info": {
      "codemirror_mode": {
        "name": "ipython",
        "version": 3
      },
      "file_extension": ".py",
      "mimetype": "text/x-python",
      "name": "python",
      "nbconvert_exporter": "python",
      "pygments_lexer": "ipython3",
      "version": "3.7.7"
    },
    "colab": {
      "provenance": []
    }
  },
  "nbformat": 4,
  "nbformat_minor": 0
}